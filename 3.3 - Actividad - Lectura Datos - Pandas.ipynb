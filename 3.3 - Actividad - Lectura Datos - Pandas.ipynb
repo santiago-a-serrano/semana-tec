{
  "nbformat": 4,
  "nbformat_minor": 0,
  "metadata": {
    "colab": {
      "name": "3.3 - Actividad - Lectura Datos - Pandas.ipynb",
      "provenance": [],
      "collapsed_sections": [],
      "include_colab_link": true
    },
    "kernelspec": {
      "display_name": "Python 3",
      "name": "python3"
    }
  },
  "cells": [
    {
      "cell_type": "markdown",
      "metadata": {
        "id": "view-in-github",
        "colab_type": "text"
      },
      "source": [
        "<a href=\"https://colab.research.google.com/github/santiago-a-serrano/semana-tec/blob/main/3.3%20-%20Actividad%20-%20Lectura%20Datos%20-%20Pandas.ipynb\" target=\"_parent\"><img src=\"https://colab.research.google.com/assets/colab-badge.svg\" alt=\"Open In Colab\"/></a>"
      ]
    },
    {
      "cell_type": "markdown",
      "metadata": {
        "id": "SP4NFiDIvXB3"
      },
      "source": [
        "# Actividad\n",
        "\n",
        "- **Nombres**: Santiago Andrés Serrano Vacca, Miguel Ángel Peña Ruiz, Ricardo Jorge Rodríguez Treviño, David Emiliano Mireles Cárdenas.\n",
        "- **Matrículas**: A01734988, A01366731, A00831595, A01633729.\n",
        "\n",
        "# Entregar \n",
        "Archivo PDF de la actividad y la liga de la actividad en su repostitorio.\n",
        "\n",
        "# Nota: \n",
        "Todas las tareas entregadas fuera de la fecha limite se califican sobre 50 de los 100 puntos posibles.\n"
      ]
    },
    {
      "cell_type": "markdown",
      "metadata": {
        "id": "zrQkVJYDvv_t"
      },
      "source": [
        "1. Leer el archivo **netflix_titles.csv**\n",
        "\n"
      ]
    },
    {
      "cell_type": "code",
      "metadata": {
        "id": "LN_Wc76fvY66",
        "colab": {
          "base_uri": "https://localhost:8080/",
          "height": 0
        },
        "outputId": "ff7a5a43-b29c-4c79-f6fe-67a833a7777c"
      },
      "source": [
        "from google.colab import drive\n",
        "import pandas as pd\n",
        "drive.mount('/content/drive/')\n",
        "file = open('/content/drive/My Drive/SemanaTec/arte-analitica/data/netflix_titles.csv')\n",
        "data = pd.read_csv(file)"
      ],
      "execution_count": 9,
      "outputs": [
        {
          "output_type": "stream",
          "name": "stdout",
          "text": [
            "Drive already mounted at /content/drive/; to attempt to forcibly remount, call drive.mount(\"/content/drive/\", force_remount=True).\n"
          ]
        }
      ]
    },
    {
      "cell_type": "markdown",
      "metadata": {
        "id": "ffquDfX_wihk"
      },
      "source": [
        "2. Observa las primeras líneas usando la función head"
      ]
    },
    {
      "cell_type": "code",
      "metadata": {
        "id": "rsVSDf-CUpfr",
        "colab": {
          "base_uri": "https://localhost:8080/",
          "height": 289
        },
        "outputId": "f8511b0b-8832-4f39-896b-8b450fedaf83"
      },
      "source": [
        "data.head()"
      ],
      "execution_count": 10,
      "outputs": [
        {
          "output_type": "execute_result",
          "data": {
            "text/html": [
              "<div>\n",
              "<style scoped>\n",
              "    .dataframe tbody tr th:only-of-type {\n",
              "        vertical-align: middle;\n",
              "    }\n",
              "\n",
              "    .dataframe tbody tr th {\n",
              "        vertical-align: top;\n",
              "    }\n",
              "\n",
              "    .dataframe thead th {\n",
              "        text-align: right;\n",
              "    }\n",
              "</style>\n",
              "<table border=\"1\" class=\"dataframe\">\n",
              "  <thead>\n",
              "    <tr style=\"text-align: right;\">\n",
              "      <th></th>\n",
              "      <th>show_id</th>\n",
              "      <th>type</th>\n",
              "      <th>title</th>\n",
              "      <th>director</th>\n",
              "      <th>cast</th>\n",
              "      <th>country</th>\n",
              "      <th>date_added</th>\n",
              "      <th>release_year</th>\n",
              "      <th>rating</th>\n",
              "      <th>duration</th>\n",
              "      <th>listed_in</th>\n",
              "      <th>description</th>\n",
              "    </tr>\n",
              "  </thead>\n",
              "  <tbody>\n",
              "    <tr>\n",
              "      <th>0</th>\n",
              "      <td>s1</td>\n",
              "      <td>TV Show</td>\n",
              "      <td>3%</td>\n",
              "      <td>NaN</td>\n",
              "      <td>João Miguel, Bianca Comparato, Michel Gomes, R...</td>\n",
              "      <td>Brazil</td>\n",
              "      <td>August 14, 2020</td>\n",
              "      <td>2020</td>\n",
              "      <td>TV-MA</td>\n",
              "      <td>4 Seasons</td>\n",
              "      <td>International TV Shows, TV Dramas, TV Sci-Fi &amp;...</td>\n",
              "      <td>In a future where the elite inhabit an island ...</td>\n",
              "    </tr>\n",
              "    <tr>\n",
              "      <th>1</th>\n",
              "      <td>s2</td>\n",
              "      <td>Movie</td>\n",
              "      <td>7:19</td>\n",
              "      <td>Jorge Michel Grau</td>\n",
              "      <td>Demián Bichir, Héctor Bonilla, Oscar Serrano, ...</td>\n",
              "      <td>Mexico</td>\n",
              "      <td>December 23, 2016</td>\n",
              "      <td>2016</td>\n",
              "      <td>TV-MA</td>\n",
              "      <td>93 min</td>\n",
              "      <td>Dramas, International Movies</td>\n",
              "      <td>After a devastating earthquake hits Mexico Cit...</td>\n",
              "    </tr>\n",
              "    <tr>\n",
              "      <th>2</th>\n",
              "      <td>s3</td>\n",
              "      <td>Movie</td>\n",
              "      <td>23:59</td>\n",
              "      <td>Gilbert Chan</td>\n",
              "      <td>Tedd Chan, Stella Chung, Henley Hii, Lawrence ...</td>\n",
              "      <td>Singapore</td>\n",
              "      <td>December 20, 2018</td>\n",
              "      <td>2011</td>\n",
              "      <td>R</td>\n",
              "      <td>78 min</td>\n",
              "      <td>Horror Movies, International Movies</td>\n",
              "      <td>When an army recruit is found dead, his fellow...</td>\n",
              "    </tr>\n",
              "    <tr>\n",
              "      <th>3</th>\n",
              "      <td>s4</td>\n",
              "      <td>Movie</td>\n",
              "      <td>9</td>\n",
              "      <td>Shane Acker</td>\n",
              "      <td>Elijah Wood, John C. Reilly, Jennifer Connelly...</td>\n",
              "      <td>United States</td>\n",
              "      <td>November 16, 2017</td>\n",
              "      <td>2009</td>\n",
              "      <td>PG-13</td>\n",
              "      <td>80 min</td>\n",
              "      <td>Action &amp; Adventure, Independent Movies, Sci-Fi...</td>\n",
              "      <td>In a postapocalyptic world, rag-doll robots hi...</td>\n",
              "    </tr>\n",
              "    <tr>\n",
              "      <th>4</th>\n",
              "      <td>s5</td>\n",
              "      <td>Movie</td>\n",
              "      <td>21</td>\n",
              "      <td>Robert Luketic</td>\n",
              "      <td>Jim Sturgess, Kevin Spacey, Kate Bosworth, Aar...</td>\n",
              "      <td>United States</td>\n",
              "      <td>January 1, 2020</td>\n",
              "      <td>2008</td>\n",
              "      <td>PG-13</td>\n",
              "      <td>123 min</td>\n",
              "      <td>Dramas</td>\n",
              "      <td>A brilliant group of students become card-coun...</td>\n",
              "    </tr>\n",
              "  </tbody>\n",
              "</table>\n",
              "</div>"
            ],
            "text/plain": [
              "  show_id  ...                                        description\n",
              "0      s1  ...  In a future where the elite inhabit an island ...\n",
              "1      s2  ...  After a devastating earthquake hits Mexico Cit...\n",
              "2      s3  ...  When an army recruit is found dead, his fellow...\n",
              "3      s4  ...  In a postapocalyptic world, rag-doll robots hi...\n",
              "4      s5  ...  A brilliant group of students become card-coun...\n",
              "\n",
              "[5 rows x 12 columns]"
            ]
          },
          "metadata": {},
          "execution_count": 10
        }
      ]
    },
    {
      "cell_type": "markdown",
      "metadata": {
        "id": "isf0Y7AgwlZT"
      },
      "source": [
        "3. Genera una función que despliegue el primer reglon del archivo.\n"
      ]
    },
    {
      "cell_type": "code",
      "metadata": {
        "id": "FOtA7hjJxEH5",
        "colab": {
          "base_uri": "https://localhost:8080/",
          "height": 80
        },
        "outputId": "bfd26e67-7c11-433a-a95b-d0cdbd399242"
      },
      "source": [
        "## Esta función debe de regresar una lista con los valores del primer reglon\n",
        "def top_uno():\n",
        "  return data.head(1)\n",
        "\n",
        "top_uno()"
      ],
      "execution_count": 21,
      "outputs": [
        {
          "output_type": "execute_result",
          "data": {
            "text/html": [
              "<div>\n",
              "<style scoped>\n",
              "    .dataframe tbody tr th:only-of-type {\n",
              "        vertical-align: middle;\n",
              "    }\n",
              "\n",
              "    .dataframe tbody tr th {\n",
              "        vertical-align: top;\n",
              "    }\n",
              "\n",
              "    .dataframe thead th {\n",
              "        text-align: right;\n",
              "    }\n",
              "</style>\n",
              "<table border=\"1\" class=\"dataframe\">\n",
              "  <thead>\n",
              "    <tr style=\"text-align: right;\">\n",
              "      <th></th>\n",
              "      <th>show_id</th>\n",
              "      <th>type</th>\n",
              "      <th>title</th>\n",
              "      <th>director</th>\n",
              "      <th>cast</th>\n",
              "      <th>country</th>\n",
              "      <th>date_added</th>\n",
              "      <th>release_year</th>\n",
              "      <th>rating</th>\n",
              "      <th>duration</th>\n",
              "      <th>listed_in</th>\n",
              "      <th>description</th>\n",
              "    </tr>\n",
              "  </thead>\n",
              "  <tbody>\n",
              "    <tr>\n",
              "      <th>0</th>\n",
              "      <td>s1</td>\n",
              "      <td>TV Show</td>\n",
              "      <td>3%</td>\n",
              "      <td>NaN</td>\n",
              "      <td>João Miguel, Bianca Comparato, Michel Gomes, R...</td>\n",
              "      <td>Brazil</td>\n",
              "      <td>August 14, 2020</td>\n",
              "      <td>2020</td>\n",
              "      <td>TV-MA</td>\n",
              "      <td>4 Seasons</td>\n",
              "      <td>International TV Shows, TV Dramas, TV Sci-Fi &amp;...</td>\n",
              "      <td>In a future where the elite inhabit an island ...</td>\n",
              "    </tr>\n",
              "  </tbody>\n",
              "</table>\n",
              "</div>"
            ],
            "text/plain": [
              "  show_id  ...                                        description\n",
              "0      s1  ...  In a future where the elite inhabit an island ...\n",
              "\n",
              "[1 rows x 12 columns]"
            ]
          },
          "metadata": {},
          "execution_count": 21
        }
      ]
    },
    {
      "cell_type": "markdown",
      "metadata": {
        "id": "6HO4HB-yxi6u"
      },
      "source": [
        "4. Genera una función que regrese el número de registros del archivo"
      ]
    },
    {
      "cell_type": "code",
      "metadata": {
        "id": "9sOQU-thxjIh",
        "colab": {
          "base_uri": "https://localhost:8080/",
          "height": 0
        },
        "outputId": "8095fd11-3fcb-4146-97c7-2c4605906e53"
      },
      "source": [
        "## Esta función tiene que entregar el número de registros del archivo\n",
        "def row_number():\n",
        "  return len(data)\n",
        "\n",
        "row_number()"
      ],
      "execution_count": 23,
      "outputs": [
        {
          "output_type": "execute_result",
          "data": {
            "text/plain": [
              "7787"
            ]
          },
          "metadata": {},
          "execution_count": 23
        }
      ]
    },
    {
      "cell_type": "markdown",
      "metadata": {
        "id": "Gt6dUOR-yWkl"
      },
      "source": [
        "5. Generar una función que entregue las películas con release_year del 2020"
      ]
    },
    {
      "cell_type": "code",
      "metadata": {
        "id": "2GIB4LcryW4W",
        "colab": {
          "base_uri": "https://localhost:8080/",
          "height": 589
        },
        "outputId": "f6321f8d-6490-4dea-a405-a357ee16ff8c"
      },
      "source": [
        "## Esta función tiene que entregar las películas creadas en el año 2020\n",
        "\n",
        "year_consulta=2020\n",
        "def released_year(year):\n",
        "  return data[data['release_year'] == year]\n",
        "\n",
        "released_year(year_consulta)"
      ],
      "execution_count": 28,
      "outputs": [
        {
          "output_type": "execute_result",
          "data": {
            "text/html": [
              "<div>\n",
              "<style scoped>\n",
              "    .dataframe tbody tr th:only-of-type {\n",
              "        vertical-align: middle;\n",
              "    }\n",
              "\n",
              "    .dataframe tbody tr th {\n",
              "        vertical-align: top;\n",
              "    }\n",
              "\n",
              "    .dataframe thead th {\n",
              "        text-align: right;\n",
              "    }\n",
              "</style>\n",
              "<table border=\"1\" class=\"dataframe\">\n",
              "  <thead>\n",
              "    <tr style=\"text-align: right;\">\n",
              "      <th></th>\n",
              "      <th>show_id</th>\n",
              "      <th>type</th>\n",
              "      <th>title</th>\n",
              "      <th>director</th>\n",
              "      <th>cast</th>\n",
              "      <th>country</th>\n",
              "      <th>date_added</th>\n",
              "      <th>release_year</th>\n",
              "      <th>rating</th>\n",
              "      <th>duration</th>\n",
              "      <th>listed_in</th>\n",
              "      <th>description</th>\n",
              "    </tr>\n",
              "  </thead>\n",
              "  <tbody>\n",
              "    <tr>\n",
              "      <th>0</th>\n",
              "      <td>s1</td>\n",
              "      <td>TV Show</td>\n",
              "      <td>3%</td>\n",
              "      <td>NaN</td>\n",
              "      <td>João Miguel, Bianca Comparato, Michel Gomes, R...</td>\n",
              "      <td>Brazil</td>\n",
              "      <td>August 14, 2020</td>\n",
              "      <td>2020</td>\n",
              "      <td>TV-MA</td>\n",
              "      <td>4 Seasons</td>\n",
              "      <td>International TV Shows, TV Dramas, TV Sci-Fi &amp;...</td>\n",
              "      <td>In a future where the elite inhabit an island ...</td>\n",
              "    </tr>\n",
              "    <tr>\n",
              "      <th>24</th>\n",
              "      <td>s25</td>\n",
              "      <td>TV Show</td>\n",
              "      <td>​SAINT SEIYA: Knights of the Zodiac</td>\n",
              "      <td>NaN</td>\n",
              "      <td>Bryson Baugus, Emily Neves, Blake Shepard, Pat...</td>\n",
              "      <td>Japan</td>\n",
              "      <td>January 23, 2020</td>\n",
              "      <td>2020</td>\n",
              "      <td>TV-14</td>\n",
              "      <td>2 Seasons</td>\n",
              "      <td>Anime Series, International TV Shows</td>\n",
              "      <td>Seiya and the Knights of the Zodiac rise again...</td>\n",
              "    </tr>\n",
              "    <tr>\n",
              "      <th>26</th>\n",
              "      <td>s27</td>\n",
              "      <td>TV Show</td>\n",
              "      <td>(Un)Well</td>\n",
              "      <td>NaN</td>\n",
              "      <td>NaN</td>\n",
              "      <td>United States</td>\n",
              "      <td>August 12, 2020</td>\n",
              "      <td>2020</td>\n",
              "      <td>TV-MA</td>\n",
              "      <td>1 Season</td>\n",
              "      <td>Reality TV</td>\n",
              "      <td>This docuseries takes a deep dive into the luc...</td>\n",
              "    </tr>\n",
              "    <tr>\n",
              "      <th>27</th>\n",
              "      <td>s28</td>\n",
              "      <td>Movie</td>\n",
              "      <td>#Alive</td>\n",
              "      <td>Cho Il</td>\n",
              "      <td>Yoo Ah-in, Park Shin-hye</td>\n",
              "      <td>South Korea</td>\n",
              "      <td>September 8, 2020</td>\n",
              "      <td>2020</td>\n",
              "      <td>TV-MA</td>\n",
              "      <td>99 min</td>\n",
              "      <td>Horror Movies, International Movies, Thrillers</td>\n",
              "      <td>As a grisly virus rampages a city, a lone man ...</td>\n",
              "    </tr>\n",
              "    <tr>\n",
              "      <th>29</th>\n",
              "      <td>s30</td>\n",
              "      <td>TV Show</td>\n",
              "      <td>#blackAF</td>\n",
              "      <td>NaN</td>\n",
              "      <td>Kenya Barris, Rashida Jones, Iman Benson, Genn...</td>\n",
              "      <td>United States</td>\n",
              "      <td>April 17, 2020</td>\n",
              "      <td>2020</td>\n",
              "      <td>TV-MA</td>\n",
              "      <td>1 Season</td>\n",
              "      <td>TV Comedies</td>\n",
              "      <td>Kenya Barris and his family navigate relations...</td>\n",
              "    </tr>\n",
              "    <tr>\n",
              "      <th>...</th>\n",
              "      <td>...</td>\n",
              "      <td>...</td>\n",
              "      <td>...</td>\n",
              "      <td>...</td>\n",
              "      <td>...</td>\n",
              "      <td>...</td>\n",
              "      <td>...</td>\n",
              "      <td>...</td>\n",
              "      <td>...</td>\n",
              "      <td>...</td>\n",
              "      <td>...</td>\n",
              "      <td>...</td>\n",
              "    </tr>\n",
              "    <tr>\n",
              "      <th>7725</th>\n",
              "      <td>s7726</td>\n",
              "      <td>TV Show</td>\n",
              "      <td>You Cannot Hide</td>\n",
              "      <td>NaN</td>\n",
              "      <td>Blanca Soto, Eduardo Noriega, Iván Sánchez, Ma...</td>\n",
              "      <td>Mexico</td>\n",
              "      <td>October 1, 2020</td>\n",
              "      <td>2020</td>\n",
              "      <td>TV-MA</td>\n",
              "      <td>1 Season</td>\n",
              "      <td>Crime TV Shows, International TV Shows, Spanis...</td>\n",
              "      <td>A nurse and her daughter flee her husband’s dr...</td>\n",
              "    </tr>\n",
              "    <tr>\n",
              "      <th>7734</th>\n",
              "      <td>s7735</td>\n",
              "      <td>Movie</td>\n",
              "      <td>You've Got This</td>\n",
              "      <td>Salvador Espinosa</td>\n",
              "      <td>Mauricio Ochmann, Esmeralda Pimentel, Matteo G...</td>\n",
              "      <td>Mexico</td>\n",
              "      <td>October 2, 2020</td>\n",
              "      <td>2020</td>\n",
              "      <td>TV-MA</td>\n",
              "      <td>112 min</td>\n",
              "      <td>Comedies, International Movies, Romantic Movies</td>\n",
              "      <td>An ad creative and a successful exec have a gr...</td>\n",
              "    </tr>\n",
              "    <tr>\n",
              "      <th>7738</th>\n",
              "      <td>s7739</td>\n",
              "      <td>TV Show</td>\n",
              "      <td>Young Wallander</td>\n",
              "      <td>NaN</td>\n",
              "      <td>Adam Pålsson, Richard Dillane, Leanne Best, El...</td>\n",
              "      <td>United Kingdom</td>\n",
              "      <td>September 3, 2020</td>\n",
              "      <td>2020</td>\n",
              "      <td>TV-MA</td>\n",
              "      <td>1 Season</td>\n",
              "      <td>Crime TV Shows, International TV Shows, TV Dramas</td>\n",
              "      <td>An incendiary hate crime stirs civil unrest, f...</td>\n",
              "    </tr>\n",
              "    <tr>\n",
              "      <th>7741</th>\n",
              "      <td>s7742</td>\n",
              "      <td>Movie</td>\n",
              "      <td>Your Name Engraved Herein</td>\n",
              "      <td>Liu Kuang-hui</td>\n",
              "      <td>Edward Chen, Tseng Ching-hua, Leon Dai, Jason ...</td>\n",
              "      <td>Taiwan</td>\n",
              "      <td>December 23, 2020</td>\n",
              "      <td>2020</td>\n",
              "      <td>TV-MA</td>\n",
              "      <td>115 min</td>\n",
              "      <td>Dramas, International Movies, LGBTQ Movies</td>\n",
              "      <td>In 1987, as martial law ends in Taiwan, Jia-ha...</td>\n",
              "    </tr>\n",
              "    <tr>\n",
              "      <th>7744</th>\n",
              "      <td>s7745</td>\n",
              "      <td>Movie</td>\n",
              "      <td>Yours Sincerely, Kanan Gill</td>\n",
              "      <td>Neville Shah</td>\n",
              "      <td>Kanan Gill</td>\n",
              "      <td>India</td>\n",
              "      <td>April 24, 2020</td>\n",
              "      <td>2020</td>\n",
              "      <td>TV-MA</td>\n",
              "      <td>72 min</td>\n",
              "      <td>Stand-Up Comedy</td>\n",
              "      <td>Revisiting life goals set in a letter written ...</td>\n",
              "    </tr>\n",
              "  </tbody>\n",
              "</table>\n",
              "<p>868 rows × 12 columns</p>\n",
              "</div>"
            ],
            "text/plain": [
              "     show_id  ...                                        description\n",
              "0         s1  ...  In a future where the elite inhabit an island ...\n",
              "24       s25  ...  Seiya and the Knights of the Zodiac rise again...\n",
              "26       s27  ...  This docuseries takes a deep dive into the luc...\n",
              "27       s28  ...  As a grisly virus rampages a city, a lone man ...\n",
              "29       s30  ...  Kenya Barris and his family navigate relations...\n",
              "...      ...  ...                                                ...\n",
              "7725   s7726  ...  A nurse and her daughter flee her husband’s dr...\n",
              "7734   s7735  ...  An ad creative and a successful exec have a gr...\n",
              "7738   s7739  ...  An incendiary hate crime stirs civil unrest, f...\n",
              "7741   s7742  ...  In 1987, as martial law ends in Taiwan, Jia-ha...\n",
              "7744   s7745  ...  Revisiting life goals set in a letter written ...\n",
              "\n",
              "[868 rows x 12 columns]"
            ]
          },
          "metadata": {},
          "execution_count": 28
        }
      ]
    },
    {
      "cell_type": "markdown",
      "metadata": {
        "id": "lJe39YU9zQTt"
      },
      "source": [
        "6. Películas con la columna de contry='Mexico'\n"
      ]
    },
    {
      "cell_type": "code",
      "metadata": {
        "id": "A2fk5Au1zPmI",
        "colab": {
          "base_uri": "https://localhost:8080/",
          "height": 589
        },
        "outputId": "6ca6ab50-16b1-44c9-d846-448ad1e4f19a"
      },
      "source": [
        "## Esta función tiene que entregar las películas creadas en Mexico\n",
        "pais_consulta='Mexico'\n",
        "\n",
        "def country_year(pais_consulta):\n",
        "  return data[data['country'] == pais_consulta]\n",
        "\n",
        "country_year(pais_consulta)"
      ],
      "execution_count": 29,
      "outputs": [
        {
          "output_type": "execute_result",
          "data": {
            "text/html": [
              "<div>\n",
              "<style scoped>\n",
              "    .dataframe tbody tr th:only-of-type {\n",
              "        vertical-align: middle;\n",
              "    }\n",
              "\n",
              "    .dataframe tbody tr th {\n",
              "        vertical-align: top;\n",
              "    }\n",
              "\n",
              "    .dataframe thead th {\n",
              "        text-align: right;\n",
              "    }\n",
              "</style>\n",
              "<table border=\"1\" class=\"dataframe\">\n",
              "  <thead>\n",
              "    <tr style=\"text-align: right;\">\n",
              "      <th></th>\n",
              "      <th>show_id</th>\n",
              "      <th>type</th>\n",
              "      <th>title</th>\n",
              "      <th>director</th>\n",
              "      <th>cast</th>\n",
              "      <th>country</th>\n",
              "      <th>date_added</th>\n",
              "      <th>release_year</th>\n",
              "      <th>rating</th>\n",
              "      <th>duration</th>\n",
              "      <th>listed_in</th>\n",
              "      <th>description</th>\n",
              "    </tr>\n",
              "  </thead>\n",
              "  <tbody>\n",
              "    <tr>\n",
              "      <th>1</th>\n",
              "      <td>s2</td>\n",
              "      <td>Movie</td>\n",
              "      <td>7:19</td>\n",
              "      <td>Jorge Michel Grau</td>\n",
              "      <td>Demián Bichir, Héctor Bonilla, Oscar Serrano, ...</td>\n",
              "      <td>Mexico</td>\n",
              "      <td>December 23, 2016</td>\n",
              "      <td>2016</td>\n",
              "      <td>TV-MA</td>\n",
              "      <td>93 min</td>\n",
              "      <td>Dramas, International Movies</td>\n",
              "      <td>After a devastating earthquake hits Mexico Cit...</td>\n",
              "    </tr>\n",
              "    <tr>\n",
              "      <th>12</th>\n",
              "      <td>s13</td>\n",
              "      <td>TV Show</td>\n",
              "      <td>1994</td>\n",
              "      <td>Diego Enrique Osorno</td>\n",
              "      <td>NaN</td>\n",
              "      <td>Mexico</td>\n",
              "      <td>May 17, 2019</td>\n",
              "      <td>2019</td>\n",
              "      <td>TV-MA</td>\n",
              "      <td>1 Season</td>\n",
              "      <td>Crime TV Shows, Docuseries, International TV S...</td>\n",
              "      <td>Archival video and new interviews examine Mexi...</td>\n",
              "    </tr>\n",
              "    <tr>\n",
              "      <th>292</th>\n",
              "      <td>s293</td>\n",
              "      <td>Movie</td>\n",
              "      <td>Acapulco La vida va</td>\n",
              "      <td>Alfonso Serrano Maturino</td>\n",
              "      <td>Patricio Castillo, Sergio Bustamante, Alejandr...</td>\n",
              "      <td>Mexico</td>\n",
              "      <td>June 3, 2017</td>\n",
              "      <td>2016</td>\n",
              "      <td>TV-MA</td>\n",
              "      <td>89 min</td>\n",
              "      <td>Comedies, Dramas, International Movies</td>\n",
              "      <td>Three lifelong friends travel to Acapulco oste...</td>\n",
              "    </tr>\n",
              "    <tr>\n",
              "      <th>370</th>\n",
              "      <td>s371</td>\n",
              "      <td>Movie</td>\n",
              "      <td>Alan Saldaña: Mi vida de pobre</td>\n",
              "      <td>Raúl Campos, Jan Suter</td>\n",
              "      <td>Alan Saldaña</td>\n",
              "      <td>Mexico</td>\n",
              "      <td>August 4, 2017</td>\n",
              "      <td>2017</td>\n",
              "      <td>TV-MA</td>\n",
              "      <td>54 min</td>\n",
              "      <td>Stand-Up Comedy</td>\n",
              "      <td>Mexican comic Alan Saldaña has fun with everyt...</td>\n",
              "    </tr>\n",
              "    <tr>\n",
              "      <th>378</th>\n",
              "      <td>s379</td>\n",
              "      <td>Movie</td>\n",
              "      <td>Alex Fernández: The Best Comedian in the World</td>\n",
              "      <td>Alex Díaz</td>\n",
              "      <td>Alex Fernández</td>\n",
              "      <td>Mexico</td>\n",
              "      <td>January 23, 2020</td>\n",
              "      <td>2020</td>\n",
              "      <td>TV-MA</td>\n",
              "      <td>51 min</td>\n",
              "      <td>Stand-Up Comedy</td>\n",
              "      <td>Comic Alex Fernández performs his familiar aut...</td>\n",
              "    </tr>\n",
              "    <tr>\n",
              "      <th>...</th>\n",
              "      <td>...</td>\n",
              "      <td>...</td>\n",
              "      <td>...</td>\n",
              "      <td>...</td>\n",
              "      <td>...</td>\n",
              "      <td>...</td>\n",
              "      <td>...</td>\n",
              "      <td>...</td>\n",
              "      <td>...</td>\n",
              "      <td>...</td>\n",
              "      <td>...</td>\n",
              "      <td>...</td>\n",
              "    </tr>\n",
              "    <tr>\n",
              "      <th>7698</th>\n",
              "      <td>s7699</td>\n",
              "      <td>TV Show</td>\n",
              "      <td>Yankee</td>\n",
              "      <td>NaN</td>\n",
              "      <td>Pablo Lyle, Ana Layevska, Leonardo Daniel, Jav...</td>\n",
              "      <td>Mexico</td>\n",
              "      <td>June 14, 2019</td>\n",
              "      <td>2019</td>\n",
              "      <td>TV-MA</td>\n",
              "      <td>1 Season</td>\n",
              "      <td>Crime TV Shows, International TV Shows, Spanis...</td>\n",
              "      <td>On the run from the police, an Arizona man cro...</td>\n",
              "    </tr>\n",
              "    <tr>\n",
              "      <th>7725</th>\n",
              "      <td>s7726</td>\n",
              "      <td>TV Show</td>\n",
              "      <td>You Cannot Hide</td>\n",
              "      <td>NaN</td>\n",
              "      <td>Blanca Soto, Eduardo Noriega, Iván Sánchez, Ma...</td>\n",
              "      <td>Mexico</td>\n",
              "      <td>October 1, 2020</td>\n",
              "      <td>2020</td>\n",
              "      <td>TV-MA</td>\n",
              "      <td>1 Season</td>\n",
              "      <td>Crime TV Shows, International TV Shows, Spanis...</td>\n",
              "      <td>A nurse and her daughter flee her husband’s dr...</td>\n",
              "    </tr>\n",
              "    <tr>\n",
              "      <th>7734</th>\n",
              "      <td>s7735</td>\n",
              "      <td>Movie</td>\n",
              "      <td>You've Got This</td>\n",
              "      <td>Salvador Espinosa</td>\n",
              "      <td>Mauricio Ochmann, Esmeralda Pimentel, Matteo G...</td>\n",
              "      <td>Mexico</td>\n",
              "      <td>October 2, 2020</td>\n",
              "      <td>2020</td>\n",
              "      <td>TV-MA</td>\n",
              "      <td>112 min</td>\n",
              "      <td>Comedies, International Movies, Romantic Movies</td>\n",
              "      <td>An ad creative and a successful exec have a gr...</td>\n",
              "    </tr>\n",
              "    <tr>\n",
              "      <th>7773</th>\n",
              "      <td>s7774</td>\n",
              "      <td>Movie</td>\n",
              "      <td>Zoé: Panoramas</td>\n",
              "      <td>Rodrigo Guardiola, Gabriel Cruz Rivas</td>\n",
              "      <td>Sergio Acosta, Jesús Báez, Ángel Mosqueda, Rod...</td>\n",
              "      <td>Mexico</td>\n",
              "      <td>November 1, 2019</td>\n",
              "      <td>2016</td>\n",
              "      <td>TV-MA</td>\n",
              "      <td>89 min</td>\n",
              "      <td>Documentaries, International Movies, Music &amp; M...</td>\n",
              "      <td>This introspective rockumentary follows the ca...</td>\n",
              "    </tr>\n",
              "    <tr>\n",
              "      <th>7779</th>\n",
              "      <td>s7780</td>\n",
              "      <td>TV Show</td>\n",
              "      <td>Zona Rosa</td>\n",
              "      <td>NaN</td>\n",
              "      <td>Manu NNa, Ana Julia Yeyé, Ray Contreras, Pablo...</td>\n",
              "      <td>Mexico</td>\n",
              "      <td>November 26, 2019</td>\n",
              "      <td>2019</td>\n",
              "      <td>TV-MA</td>\n",
              "      <td>1 Season</td>\n",
              "      <td>International TV Shows, Spanish-Language TV Sh...</td>\n",
              "      <td>An assortment of talent takes the stage for a ...</td>\n",
              "    </tr>\n",
              "  </tbody>\n",
              "</table>\n",
              "<p>100 rows × 12 columns</p>\n",
              "</div>"
            ],
            "text/plain": [
              "     show_id  ...                                        description\n",
              "1         s2  ...  After a devastating earthquake hits Mexico Cit...\n",
              "12       s13  ...  Archival video and new interviews examine Mexi...\n",
              "292     s293  ...  Three lifelong friends travel to Acapulco oste...\n",
              "370     s371  ...  Mexican comic Alan Saldaña has fun with everyt...\n",
              "378     s379  ...  Comic Alex Fernández performs his familiar aut...\n",
              "...      ...  ...                                                ...\n",
              "7698   s7699  ...  On the run from the police, an Arizona man cro...\n",
              "7725   s7726  ...  A nurse and her daughter flee her husband’s dr...\n",
              "7734   s7735  ...  An ad creative and a successful exec have a gr...\n",
              "7773   s7774  ...  This introspective rockumentary follows the ca...\n",
              "7779   s7780  ...  An assortment of talent takes the stage for a ...\n",
              "\n",
              "[100 rows x 12 columns]"
            ]
          },
          "metadata": {},
          "execution_count": 29
        }
      ]
    },
    {
      "cell_type": "markdown",
      "metadata": {
        "id": "dGNJtyzprZMX"
      },
      "source": [
        "**Ejercicio de apply**\n",
        "\n",
        "Genrar una función que obtenga el cuadrado de un número y llamala cuadrado."
      ]
    },
    {
      "cell_type": "code",
      "metadata": {
        "id": "m8X0u_ejrZMY"
      },
      "source": [
        "def cuadrado(x):\n",
        "    return x * x"
      ],
      "execution_count": 109,
      "outputs": []
    },
    {
      "cell_type": "markdown",
      "metadata": {
        "id": "ALkhSSJ-rZMY"
      },
      "source": [
        "Usando la instruccion **apply** generar el cuadrado de todos los valores del siguiente dataframe. \n",
        "\n",
        "Ultiliza la función que definiste en el paso anterior."
      ]
    },
    {
      "cell_type": "code",
      "metadata": {
        "colab": {
          "base_uri": "https://localhost:8080/",
          "height": 204
        },
        "id": "mUg96Xc2rZMY",
        "outputId": "5a0b5692-edaf-4d82-99a8-4ea217385557"
      },
      "source": [
        "\n",
        "import pandas as pd\n",
        "\n",
        "df = pd.DataFrame({'A': [1, 2, 3, 5, 6], 'B': [10, 20, 30, 40, 50]})\n",
        "df.applymap(cuadrado)"
      ],
      "execution_count": 114,
      "outputs": [
        {
          "output_type": "execute_result",
          "data": {
            "text/html": [
              "<div>\n",
              "<style scoped>\n",
              "    .dataframe tbody tr th:only-of-type {\n",
              "        vertical-align: middle;\n",
              "    }\n",
              "\n",
              "    .dataframe tbody tr th {\n",
              "        vertical-align: top;\n",
              "    }\n",
              "\n",
              "    .dataframe thead th {\n",
              "        text-align: right;\n",
              "    }\n",
              "</style>\n",
              "<table border=\"1\" class=\"dataframe\">\n",
              "  <thead>\n",
              "    <tr style=\"text-align: right;\">\n",
              "      <th></th>\n",
              "      <th>A</th>\n",
              "      <th>B</th>\n",
              "    </tr>\n",
              "  </thead>\n",
              "  <tbody>\n",
              "    <tr>\n",
              "      <th>0</th>\n",
              "      <td>1</td>\n",
              "      <td>100</td>\n",
              "    </tr>\n",
              "    <tr>\n",
              "      <th>1</th>\n",
              "      <td>4</td>\n",
              "      <td>400</td>\n",
              "    </tr>\n",
              "    <tr>\n",
              "      <th>2</th>\n",
              "      <td>9</td>\n",
              "      <td>900</td>\n",
              "    </tr>\n",
              "    <tr>\n",
              "      <th>3</th>\n",
              "      <td>25</td>\n",
              "      <td>1600</td>\n",
              "    </tr>\n",
              "    <tr>\n",
              "      <th>4</th>\n",
              "      <td>36</td>\n",
              "      <td>2500</td>\n",
              "    </tr>\n",
              "  </tbody>\n",
              "</table>\n",
              "</div>"
            ],
            "text/plain": [
              "    A     B\n",
              "0   1   100\n",
              "1   4   400\n",
              "2   9   900\n",
              "3  25  1600\n",
              "4  36  2500"
            ]
          },
          "metadata": {},
          "execution_count": 114
        }
      ]
    },
    {
      "cell_type": "markdown",
      "metadata": {
        "id": "_KlRHg8hrZMY"
      },
      "source": [
        "**Ejercicio de map**\n",
        "\n",
        "Calcular la longitud del contenido de todas las celdas del datafame usando **lambda** y la operación **map**"
      ]
    },
    {
      "cell_type": "code",
      "metadata": {
        "colab": {
          "base_uri": "https://localhost:8080/",
          "height": 0
        },
        "id": "p-poNxZArZMY",
        "outputId": "4dbfbf9d-cce4-4272-f9c3-d8fa4737b548"
      },
      "source": [
        "import pandas as pd\n",
        "\n",
        "df = pd.DataFrame({'Nombre': ['Luz', 'Eunice','Ignacio','José'], 'Apellido': ['Angeles', 'Ochoa','Treviño','Zapata']})\n",
        "print(df['Nombre'].map(lambda x: len(x)), df['Apellido'].map(lambda x: len(x)), sep=\"\\n\")\n",
        "\n",
        "#df"
      ],
      "execution_count": 121,
      "outputs": [
        {
          "output_type": "stream",
          "name": "stdout",
          "text": [
            "0    3\n",
            "1    6\n",
            "2    7\n",
            "3    4\n",
            "Name: Nombre, dtype: int64\n",
            "0    7\n",
            "1    5\n",
            "2    7\n",
            "3    6\n",
            "Name: Apellido, dtype: int64\n"
          ]
        }
      ]
    }
  ]
}