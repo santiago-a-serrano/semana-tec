{
  "nbformat": 4,
  "nbformat_minor": 5,
  "metadata": {
    "colab": {
      "name": "4.2 - Actividad - Estadisticas de datos.ipynb",
      "provenance": [],
      "collapsed_sections": []
    },
    "kernelspec": {
      "name": "python3",
      "display_name": "Python 3"
    }
  },
  "cells": [
    {
      "cell_type": "markdown",
      "metadata": {
        "id": "available-breakdown"
      },
      "source": [
        "# Actividad\n",
        "\n",
        "- **Nombres**: Santiago Andrés Serrano Vacca, Miguel Ángel Peña Ruiz, Ricardo Jorge Rodríguez Treviño, David Emiliano Mireles Cárdenas\n",
        "- **Matrículas**: A01734988, A01366731, A00831595, A01633729\n",
        "\n",
        "# Entregar \n",
        "Archivo PDF de la actividad y la liga de la actividad en su repostitorio.\n",
        "\n",
        "# Nota: \n",
        "Todas las tareas entregadas fuera de la fecha limite se califican sobre 50 de los 100 puntos posibles."
      ],
      "id": "available-breakdown"
    },
    {
      "cell_type": "markdown",
      "metadata": {
        "id": "noble-click"
      },
      "source": [
        "# Insurance dataset\n",
        "\n",
        "El dataset contiene información demográfica sobre los asegurado en una compañía de seguros:\n",
        "\n",
        "- age: edad del asegurado principal\n",
        "- sex: género del asegurado. female o male\n",
        "- bmi: índice de masa corporal\n",
        "- children: numero de niños que estan cubiertos con la poliza. \n",
        "- smoke: si fuma el beneficiario. yes/no\n",
        "- region: dónde vive el beneficiario. Estos datos son de Estados Unidos. Regiones disponibles: northeast, southeast, southwest, northwest\n",
        "- charges: costo del seguro.\n"
      ],
      "id": "noble-click"
    },
    {
      "cell_type": "markdown",
      "metadata": {
        "id": "divided-diary"
      },
      "source": [
        "# Actividad\n",
        "Carga el dataset  **`data/insurance.csv`** y haz un análisis estadístico de las variables."
      ],
      "id": "divided-diary"
    },
    {
      "cell_type": "code",
      "metadata": {
        "id": "settled-bicycle",
        "colab": {
          "base_uri": "https://localhost:8080/"
        },
        "outputId": "7e81ce08-6be0-4752-d372-54130db70ac7"
      },
      "source": [
        "# Si trabajamos en Google Colaboratory corremos las siguientes lineas de código\n",
        "from google.colab import drive\n",
        "drive.mount('/gdrive')"
      ],
      "id": "settled-bicycle",
      "execution_count": 3,
      "outputs": [
        {
          "output_type": "stream",
          "name": "stdout",
          "text": [
            "Mounted at /gdrive\n"
          ]
        }
      ]
    },
    {
      "cell_type": "code",
      "metadata": {
        "id": "dWd3ZcjqKfPQ",
        "colab": {
          "base_uri": "https://localhost:8080/"
        },
        "outputId": "d7b9051c-f3b0-47c6-f007-e816e5e74e72"
      },
      "source": [
        "# Nos cambiamos a la carpeta donde tengamos el repositorio\n",
        "%cd /gdrive/MyDrive/SemanaTec/arte-analitica"
      ],
      "id": "dWd3ZcjqKfPQ",
      "execution_count": 4,
      "outputs": [
        {
          "output_type": "stream",
          "name": "stdout",
          "text": [
            "/gdrive/MyDrive/SemanaTec/arte-analitica\n"
          ]
        }
      ]
    },
    {
      "cell_type": "code",
      "metadata": {
        "id": "jE1DnEoL2rlU"
      },
      "source": [
        "# Carga las librerías necesarias\n",
        "import numpy as np\n",
        "import pandas as pd"
      ],
      "id": "jE1DnEoL2rlU",
      "execution_count": 5,
      "outputs": []
    },
    {
      "cell_type": "code",
      "metadata": {
        "id": "enabling-switch",
        "colab": {
          "base_uri": "https://localhost:8080/",
          "height": 204
        },
        "outputId": "8e21b8ca-b931-444d-f62c-b86e02e1f78f"
      },
      "source": [
        "# Carga los datos y muestra los primeros renglones\n",
        "insurance = pd.read_csv('data/insurance.csv')\n",
        "insurance.head()"
      ],
      "id": "enabling-switch",
      "execution_count": 6,
      "outputs": [
        {
          "output_type": "execute_result",
          "data": {
            "text/html": [
              "<div>\n",
              "<style scoped>\n",
              "    .dataframe tbody tr th:only-of-type {\n",
              "        vertical-align: middle;\n",
              "    }\n",
              "\n",
              "    .dataframe tbody tr th {\n",
              "        vertical-align: top;\n",
              "    }\n",
              "\n",
              "    .dataframe thead th {\n",
              "        text-align: right;\n",
              "    }\n",
              "</style>\n",
              "<table border=\"1\" class=\"dataframe\">\n",
              "  <thead>\n",
              "    <tr style=\"text-align: right;\">\n",
              "      <th></th>\n",
              "      <th>age</th>\n",
              "      <th>sex</th>\n",
              "      <th>bmi</th>\n",
              "      <th>children</th>\n",
              "      <th>smoker</th>\n",
              "      <th>region</th>\n",
              "      <th>charges</th>\n",
              "    </tr>\n",
              "  </thead>\n",
              "  <tbody>\n",
              "    <tr>\n",
              "      <th>0</th>\n",
              "      <td>19</td>\n",
              "      <td>female</td>\n",
              "      <td>27.900</td>\n",
              "      <td>0</td>\n",
              "      <td>yes</td>\n",
              "      <td>southwest</td>\n",
              "      <td>16884.92400</td>\n",
              "    </tr>\n",
              "    <tr>\n",
              "      <th>1</th>\n",
              "      <td>18</td>\n",
              "      <td>male</td>\n",
              "      <td>33.770</td>\n",
              "      <td>1</td>\n",
              "      <td>no</td>\n",
              "      <td>southeast</td>\n",
              "      <td>1725.55230</td>\n",
              "    </tr>\n",
              "    <tr>\n",
              "      <th>2</th>\n",
              "      <td>28</td>\n",
              "      <td>male</td>\n",
              "      <td>33.000</td>\n",
              "      <td>3</td>\n",
              "      <td>no</td>\n",
              "      <td>southeast</td>\n",
              "      <td>4449.46200</td>\n",
              "    </tr>\n",
              "    <tr>\n",
              "      <th>3</th>\n",
              "      <td>33</td>\n",
              "      <td>male</td>\n",
              "      <td>22.705</td>\n",
              "      <td>0</td>\n",
              "      <td>no</td>\n",
              "      <td>northwest</td>\n",
              "      <td>21984.47061</td>\n",
              "    </tr>\n",
              "    <tr>\n",
              "      <th>4</th>\n",
              "      <td>32</td>\n",
              "      <td>male</td>\n",
              "      <td>28.880</td>\n",
              "      <td>0</td>\n",
              "      <td>no</td>\n",
              "      <td>northwest</td>\n",
              "      <td>3866.85520</td>\n",
              "    </tr>\n",
              "  </tbody>\n",
              "</table>\n",
              "</div>"
            ],
            "text/plain": [
              "   age     sex     bmi  children smoker     region      charges\n",
              "0   19  female  27.900         0    yes  southwest  16884.92400\n",
              "1   18    male  33.770         1     no  southeast   1725.55230\n",
              "2   28    male  33.000         3     no  southeast   4449.46200\n",
              "3   33    male  22.705         0     no  northwest  21984.47061\n",
              "4   32    male  28.880         0     no  northwest   3866.85520"
            ]
          },
          "metadata": {},
          "execution_count": 6
        }
      ]
    },
    {
      "cell_type": "code",
      "metadata": {
        "id": "conscious-pearl",
        "colab": {
          "base_uri": "https://localhost:8080/",
          "height": 297
        },
        "outputId": "5e4a95de-a80a-4d6f-a725-e2391230da69"
      },
      "source": [
        "# Crea una tabla resumen con los estadísticos generales de las variables numéricas\n",
        "insurance.describe()"
      ],
      "id": "conscious-pearl",
      "execution_count": 7,
      "outputs": [
        {
          "output_type": "execute_result",
          "data": {
            "text/html": [
              "<div>\n",
              "<style scoped>\n",
              "    .dataframe tbody tr th:only-of-type {\n",
              "        vertical-align: middle;\n",
              "    }\n",
              "\n",
              "    .dataframe tbody tr th {\n",
              "        vertical-align: top;\n",
              "    }\n",
              "\n",
              "    .dataframe thead th {\n",
              "        text-align: right;\n",
              "    }\n",
              "</style>\n",
              "<table border=\"1\" class=\"dataframe\">\n",
              "  <thead>\n",
              "    <tr style=\"text-align: right;\">\n",
              "      <th></th>\n",
              "      <th>age</th>\n",
              "      <th>bmi</th>\n",
              "      <th>children</th>\n",
              "      <th>charges</th>\n",
              "    </tr>\n",
              "  </thead>\n",
              "  <tbody>\n",
              "    <tr>\n",
              "      <th>count</th>\n",
              "      <td>1338.000000</td>\n",
              "      <td>1338.000000</td>\n",
              "      <td>1338.000000</td>\n",
              "      <td>1338.000000</td>\n",
              "    </tr>\n",
              "    <tr>\n",
              "      <th>mean</th>\n",
              "      <td>39.207025</td>\n",
              "      <td>30.663397</td>\n",
              "      <td>1.094918</td>\n",
              "      <td>13270.422265</td>\n",
              "    </tr>\n",
              "    <tr>\n",
              "      <th>std</th>\n",
              "      <td>14.049960</td>\n",
              "      <td>6.098187</td>\n",
              "      <td>1.205493</td>\n",
              "      <td>12110.011237</td>\n",
              "    </tr>\n",
              "    <tr>\n",
              "      <th>min</th>\n",
              "      <td>18.000000</td>\n",
              "      <td>15.960000</td>\n",
              "      <td>0.000000</td>\n",
              "      <td>1121.873900</td>\n",
              "    </tr>\n",
              "    <tr>\n",
              "      <th>25%</th>\n",
              "      <td>27.000000</td>\n",
              "      <td>26.296250</td>\n",
              "      <td>0.000000</td>\n",
              "      <td>4740.287150</td>\n",
              "    </tr>\n",
              "    <tr>\n",
              "      <th>50%</th>\n",
              "      <td>39.000000</td>\n",
              "      <td>30.400000</td>\n",
              "      <td>1.000000</td>\n",
              "      <td>9382.033000</td>\n",
              "    </tr>\n",
              "    <tr>\n",
              "      <th>75%</th>\n",
              "      <td>51.000000</td>\n",
              "      <td>34.693750</td>\n",
              "      <td>2.000000</td>\n",
              "      <td>16639.912515</td>\n",
              "    </tr>\n",
              "    <tr>\n",
              "      <th>max</th>\n",
              "      <td>64.000000</td>\n",
              "      <td>53.130000</td>\n",
              "      <td>5.000000</td>\n",
              "      <td>63770.428010</td>\n",
              "    </tr>\n",
              "  </tbody>\n",
              "</table>\n",
              "</div>"
            ],
            "text/plain": [
              "               age          bmi     children       charges\n",
              "count  1338.000000  1338.000000  1338.000000   1338.000000\n",
              "mean     39.207025    30.663397     1.094918  13270.422265\n",
              "std      14.049960     6.098187     1.205493  12110.011237\n",
              "min      18.000000    15.960000     0.000000   1121.873900\n",
              "25%      27.000000    26.296250     0.000000   4740.287150\n",
              "50%      39.000000    30.400000     1.000000   9382.033000\n",
              "75%      51.000000    34.693750     2.000000  16639.912515\n",
              "max      64.000000    53.130000     5.000000  63770.428010"
            ]
          },
          "metadata": {},
          "execution_count": 7
        }
      ]
    },
    {
      "cell_type": "code",
      "metadata": {
        "id": "8Vj89zKP5q2x",
        "colab": {
          "base_uri": "https://localhost:8080/",
          "height": 173
        },
        "outputId": "4c1c37fa-f257-4131-989d-15c320ce569e"
      },
      "source": [
        "# ¿Cómo se correlacionan las variables numéricas entre sí?\n",
        "insurance.corr()"
      ],
      "id": "8Vj89zKP5q2x",
      "execution_count": 8,
      "outputs": [
        {
          "output_type": "execute_result",
          "data": {
            "text/html": [
              "<div>\n",
              "<style scoped>\n",
              "    .dataframe tbody tr th:only-of-type {\n",
              "        vertical-align: middle;\n",
              "    }\n",
              "\n",
              "    .dataframe tbody tr th {\n",
              "        vertical-align: top;\n",
              "    }\n",
              "\n",
              "    .dataframe thead th {\n",
              "        text-align: right;\n",
              "    }\n",
              "</style>\n",
              "<table border=\"1\" class=\"dataframe\">\n",
              "  <thead>\n",
              "    <tr style=\"text-align: right;\">\n",
              "      <th></th>\n",
              "      <th>age</th>\n",
              "      <th>bmi</th>\n",
              "      <th>children</th>\n",
              "      <th>charges</th>\n",
              "    </tr>\n",
              "  </thead>\n",
              "  <tbody>\n",
              "    <tr>\n",
              "      <th>age</th>\n",
              "      <td>1.000000</td>\n",
              "      <td>0.109272</td>\n",
              "      <td>0.042469</td>\n",
              "      <td>0.299008</td>\n",
              "    </tr>\n",
              "    <tr>\n",
              "      <th>bmi</th>\n",
              "      <td>0.109272</td>\n",
              "      <td>1.000000</td>\n",
              "      <td>0.012759</td>\n",
              "      <td>0.198341</td>\n",
              "    </tr>\n",
              "    <tr>\n",
              "      <th>children</th>\n",
              "      <td>0.042469</td>\n",
              "      <td>0.012759</td>\n",
              "      <td>1.000000</td>\n",
              "      <td>0.067998</td>\n",
              "    </tr>\n",
              "    <tr>\n",
              "      <th>charges</th>\n",
              "      <td>0.299008</td>\n",
              "      <td>0.198341</td>\n",
              "      <td>0.067998</td>\n",
              "      <td>1.000000</td>\n",
              "    </tr>\n",
              "  </tbody>\n",
              "</table>\n",
              "</div>"
            ],
            "text/plain": [
              "               age       bmi  children   charges\n",
              "age       1.000000  0.109272  0.042469  0.299008\n",
              "bmi       0.109272  1.000000  0.012759  0.198341\n",
              "children  0.042469  0.012759  1.000000  0.067998\n",
              "charges   0.299008  0.198341  0.067998  1.000000"
            ]
          },
          "metadata": {},
          "execution_count": 8
        }
      ]
    },
    {
      "cell_type": "code",
      "metadata": {
        "id": "forward-thread",
        "colab": {
          "base_uri": "https://localhost:8080/"
        },
        "outputId": "a6a3ff7f-300b-4031-826f-6bb85843e4bd"
      },
      "source": [
        "# ¿Cuántas asegurados son hombres y cuántas son mujeres?\n",
        "insurance['sex'].value_counts()"
      ],
      "id": "forward-thread",
      "execution_count": 9,
      "outputs": [
        {
          "output_type": "execute_result",
          "data": {
            "text/plain": [
              "male      676\n",
              "female    662\n",
              "Name: sex, dtype: int64"
            ]
          },
          "metadata": {},
          "execution_count": 9
        }
      ]
    },
    {
      "cell_type": "code",
      "metadata": {
        "id": "intimate-divorce",
        "colab": {
          "base_uri": "https://localhost:8080/"
        },
        "outputId": "b31bf6e2-1728-49fd-b795-bf9a597e3b9d"
      },
      "source": [
        "# ¿Cuántos hombres y mujeres asegurados viven en cada región?\n",
        "insurance.groupby(['sex', 'region']).count()[\"charges\"]"
      ],
      "id": "intimate-divorce",
      "execution_count": 10,
      "outputs": [
        {
          "output_type": "execute_result",
          "data": {
            "text/plain": [
              "sex     region   \n",
              "female  northeast    161\n",
              "        northwest    164\n",
              "        southeast    175\n",
              "        southwest    162\n",
              "male    northeast    163\n",
              "        northwest    161\n",
              "        southeast    189\n",
              "        southwest    163\n",
              "Name: charges, dtype: int64"
            ]
          },
          "metadata": {},
          "execution_count": 10
        }
      ]
    },
    {
      "cell_type": "code",
      "metadata": {
        "id": "realistic-wireless",
        "colab": {
          "base_uri": "https://localhost:8080/"
        },
        "outputId": "1211b72f-d5ed-4f38-d583-8b3040783186"
      },
      "source": [
        "# En promedio, ¿quién paga más de cuota de seguro, los fumadores o no fumadores? Muéstralo con los datos\n",
        "insurance.groupby(['smoker']).mean()[\"charges\"]"
      ],
      "id": "realistic-wireless",
      "execution_count": 11,
      "outputs": [
        {
          "output_type": "execute_result",
          "data": {
            "text/plain": [
              "smoker\n",
              "no      8434.268298\n",
              "yes    32050.231832\n",
              "Name: charges, dtype: float64"
            ]
          },
          "metadata": {},
          "execution_count": 11
        }
      ]
    },
    {
      "cell_type": "code",
      "metadata": {
        "id": "ejcvP5U37619",
        "colab": {
          "base_uri": "https://localhost:8080/",
          "height": 452
        },
        "outputId": "3f607015-2b52-48a0-b9e2-e0fa3ae99f98"
      },
      "source": [
        "# ¿Cuáles son los cargos mínimos y máximos que las personas pagan dependiendo del género y del número de hijos?\n",
        "insurance.groupby([\"sex\", \"children\"]).agg(['min', 'max'])[\"charges\"]"
      ],
      "id": "ejcvP5U37619",
      "execution_count": 12,
      "outputs": [
        {
          "output_type": "execute_result",
          "data": {
            "text/html": [
              "<div>\n",
              "<style scoped>\n",
              "    .dataframe tbody tr th:only-of-type {\n",
              "        vertical-align: middle;\n",
              "    }\n",
              "\n",
              "    .dataframe tbody tr th {\n",
              "        vertical-align: top;\n",
              "    }\n",
              "\n",
              "    .dataframe thead th {\n",
              "        text-align: right;\n",
              "    }\n",
              "</style>\n",
              "<table border=\"1\" class=\"dataframe\">\n",
              "  <thead>\n",
              "    <tr style=\"text-align: right;\">\n",
              "      <th></th>\n",
              "      <th></th>\n",
              "      <th>min</th>\n",
              "      <th>max</th>\n",
              "    </tr>\n",
              "    <tr>\n",
              "      <th>sex</th>\n",
              "      <th>children</th>\n",
              "      <th></th>\n",
              "      <th></th>\n",
              "    </tr>\n",
              "  </thead>\n",
              "  <tbody>\n",
              "    <tr>\n",
              "      <th rowspan=\"6\" valign=\"top\">female</th>\n",
              "      <th>0</th>\n",
              "      <td>1607.51010</td>\n",
              "      <td>63770.42801</td>\n",
              "    </tr>\n",
              "    <tr>\n",
              "      <th>1</th>\n",
              "      <td>2201.09710</td>\n",
              "      <td>58571.07448</td>\n",
              "    </tr>\n",
              "    <tr>\n",
              "      <th>2</th>\n",
              "      <td>2801.25880</td>\n",
              "      <td>47305.30500</td>\n",
              "    </tr>\n",
              "    <tr>\n",
              "      <th>3</th>\n",
              "      <td>4234.92700</td>\n",
              "      <td>46661.44240</td>\n",
              "    </tr>\n",
              "    <tr>\n",
              "      <th>4</th>\n",
              "      <td>4561.18850</td>\n",
              "      <td>36580.28216</td>\n",
              "    </tr>\n",
              "    <tr>\n",
              "      <th>5</th>\n",
              "      <td>4687.79700</td>\n",
              "      <td>19023.26000</td>\n",
              "    </tr>\n",
              "    <tr>\n",
              "      <th rowspan=\"6\" valign=\"top\">male</th>\n",
              "      <th>0</th>\n",
              "      <td>1121.87390</td>\n",
              "      <td>62592.87309</td>\n",
              "    </tr>\n",
              "    <tr>\n",
              "      <th>1</th>\n",
              "      <td>1711.02680</td>\n",
              "      <td>51194.55914</td>\n",
              "    </tr>\n",
              "    <tr>\n",
              "      <th>2</th>\n",
              "      <td>2304.00220</td>\n",
              "      <td>49577.66240</td>\n",
              "    </tr>\n",
              "    <tr>\n",
              "      <th>3</th>\n",
              "      <td>3443.06400</td>\n",
              "      <td>60021.39897</td>\n",
              "    </tr>\n",
              "    <tr>\n",
              "      <th>4</th>\n",
              "      <td>4504.66240</td>\n",
              "      <td>40182.24600</td>\n",
              "    </tr>\n",
              "    <tr>\n",
              "      <th>5</th>\n",
              "      <td>4915.05985</td>\n",
              "      <td>14478.33015</td>\n",
              "    </tr>\n",
              "  </tbody>\n",
              "</table>\n",
              "</div>"
            ],
            "text/plain": [
              "                        min          max\n",
              "sex    children                         \n",
              "female 0         1607.51010  63770.42801\n",
              "       1         2201.09710  58571.07448\n",
              "       2         2801.25880  47305.30500\n",
              "       3         4234.92700  46661.44240\n",
              "       4         4561.18850  36580.28216\n",
              "       5         4687.79700  19023.26000\n",
              "male   0         1121.87390  62592.87309\n",
              "       1         1711.02680  51194.55914\n",
              "       2         2304.00220  49577.66240\n",
              "       3         3443.06400  60021.39897\n",
              "       4         4504.66240  40182.24600\n",
              "       5         4915.05985  14478.33015"
            ]
          },
          "metadata": {},
          "execution_count": 12
        }
      ]
    },
    {
      "cell_type": "code",
      "metadata": {
        "id": "eYS-kx1Z77HA",
        "colab": {
          "base_uri": "https://localhost:8080/",
          "height": 576
        },
        "outputId": "969c9d97-c802-40cb-90c6-acb713e5fb54"
      },
      "source": [
        "# ¿Cuál es el índice de masa corporal promedio para hombres y mujeres, dependiendo de la región en donde viven\n",
        "# y si son fumadores? ¿Impacta esto en la tarifa del seguro?\n",
        "insurance.groupby([\"sex\", \"region\", \"smoker\"]).mean()[[\"bmi\", \"charges\"]]"
      ],
      "id": "eYS-kx1Z77HA",
      "execution_count": 13,
      "outputs": [
        {
          "output_type": "execute_result",
          "data": {
            "text/html": [
              "<div>\n",
              "<style scoped>\n",
              "    .dataframe tbody tr th:only-of-type {\n",
              "        vertical-align: middle;\n",
              "    }\n",
              "\n",
              "    .dataframe tbody tr th {\n",
              "        vertical-align: top;\n",
              "    }\n",
              "\n",
              "    .dataframe thead th {\n",
              "        text-align: right;\n",
              "    }\n",
              "</style>\n",
              "<table border=\"1\" class=\"dataframe\">\n",
              "  <thead>\n",
              "    <tr style=\"text-align: right;\">\n",
              "      <th></th>\n",
              "      <th></th>\n",
              "      <th></th>\n",
              "      <th>bmi</th>\n",
              "      <th>charges</th>\n",
              "    </tr>\n",
              "    <tr>\n",
              "      <th>sex</th>\n",
              "      <th>region</th>\n",
              "      <th>smoker</th>\n",
              "      <th></th>\n",
              "      <th></th>\n",
              "    </tr>\n",
              "  </thead>\n",
              "  <tbody>\n",
              "    <tr>\n",
              "      <th rowspan=\"8\" valign=\"top\">female</th>\n",
              "      <th rowspan=\"2\" valign=\"top\">northeast</th>\n",
              "      <th>no</th>\n",
              "      <td>29.777462</td>\n",
              "      <td>9640.426984</td>\n",
              "    </tr>\n",
              "    <tr>\n",
              "      <th>yes</th>\n",
              "      <td>27.261724</td>\n",
              "      <td>28032.046398</td>\n",
              "    </tr>\n",
              "    <tr>\n",
              "      <th rowspan=\"2\" valign=\"top\">northwest</th>\n",
              "      <th>no</th>\n",
              "      <td>29.488704</td>\n",
              "      <td>8786.998679</td>\n",
              "    </tr>\n",
              "    <tr>\n",
              "      <th>yes</th>\n",
              "      <td>28.296897</td>\n",
              "      <td>29670.824946</td>\n",
              "    </tr>\n",
              "    <tr>\n",
              "      <th rowspan=\"2\" valign=\"top\">southeast</th>\n",
              "      <th>no</th>\n",
              "      <td>32.780000</td>\n",
              "      <td>8440.205552</td>\n",
              "    </tr>\n",
              "    <tr>\n",
              "      <th>yes</th>\n",
              "      <td>32.251389</td>\n",
              "      <td>33034.820716</td>\n",
              "    </tr>\n",
              "    <tr>\n",
              "      <th rowspan=\"2\" valign=\"top\">southwest</th>\n",
              "      <th>no</th>\n",
              "      <td>30.050355</td>\n",
              "      <td>8234.091260</td>\n",
              "    </tr>\n",
              "    <tr>\n",
              "      <th>yes</th>\n",
              "      <td>30.128571</td>\n",
              "      <td>31687.988430</td>\n",
              "    </tr>\n",
              "    <tr>\n",
              "      <th rowspan=\"8\" valign=\"top\">male</th>\n",
              "      <th rowspan=\"2\" valign=\"top\">northeast</th>\n",
              "      <th>no</th>\n",
              "      <td>28.861760</td>\n",
              "      <td>8664.042222</td>\n",
              "    </tr>\n",
              "    <tr>\n",
              "      <th>yes</th>\n",
              "      <td>29.560000</td>\n",
              "      <td>30926.252583</td>\n",
              "    </tr>\n",
              "    <tr>\n",
              "      <th rowspan=\"2\" valign=\"top\">northwest</th>\n",
              "      <th>no</th>\n",
              "      <td>28.930379</td>\n",
              "      <td>8320.689321</td>\n",
              "    </tr>\n",
              "    <tr>\n",
              "      <th>yes</th>\n",
              "      <td>29.983966</td>\n",
              "      <td>30713.181419</td>\n",
              "    </tr>\n",
              "    <tr>\n",
              "      <th rowspan=\"2\" valign=\"top\">southeast</th>\n",
              "      <th>no</th>\n",
              "      <td>34.129552</td>\n",
              "      <td>7609.003587</td>\n",
              "    </tr>\n",
              "    <tr>\n",
              "      <th>yes</th>\n",
              "      <td>33.650000</td>\n",
              "      <td>36029.839367</td>\n",
              "    </tr>\n",
              "    <tr>\n",
              "      <th rowspan=\"2\" valign=\"top\">southwest</th>\n",
              "      <th>no</th>\n",
              "      <td>31.019841</td>\n",
              "      <td>7778.905534</td>\n",
              "    </tr>\n",
              "    <tr>\n",
              "      <th>yes</th>\n",
              "      <td>31.502703</td>\n",
              "      <td>32598.862854</td>\n",
              "    </tr>\n",
              "  </tbody>\n",
              "</table>\n",
              "</div>"
            ],
            "text/plain": [
              "                               bmi       charges\n",
              "sex    region    smoker                         \n",
              "female northeast no      29.777462   9640.426984\n",
              "                 yes     27.261724  28032.046398\n",
              "       northwest no      29.488704   8786.998679\n",
              "                 yes     28.296897  29670.824946\n",
              "       southeast no      32.780000   8440.205552\n",
              "                 yes     32.251389  33034.820716\n",
              "       southwest no      30.050355   8234.091260\n",
              "                 yes     30.128571  31687.988430\n",
              "male   northeast no      28.861760   8664.042222\n",
              "                 yes     29.560000  30926.252583\n",
              "       northwest no      28.930379   8320.689321\n",
              "                 yes     29.983966  30713.181419\n",
              "       southeast no      34.129552   7609.003587\n",
              "                 yes     33.650000  36029.839367\n",
              "       southwest no      31.019841   7778.905534\n",
              "                 yes     31.502703  32598.862854"
            ]
          },
          "metadata": {},
          "execution_count": 13
        }
      ]
    }
  ]
}